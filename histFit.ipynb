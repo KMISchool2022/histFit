{
 "cells": [
  {
   "cell_type": "markdown",
   "id": "928476a9",
   "metadata": {},
   "source": [
    "[![Open In Colab](https://colab.research.google.com/assets/colab-badge.svg)](https://colab.research.google.com/github/KMISchool2022/histFit/blob/main/histFit.ipynb)"
   ]
  },
  {
   "cell_type": "code",
   "execution_count": null,
   "id": "1ba99df0",
   "metadata": {},
   "outputs": [],
   "source": [
    "!pip install iminuit"
   ]
  },
  {
   "cell_type": "code",
   "execution_count": 1,
   "id": "e0a3008f",
   "metadata": {},
   "outputs": [
    {
     "name": "stdout",
     "output_type": "stream",
     "text": [
      "iminuit version: 2.16.0\n"
     ]
    }
   ],
   "source": [
    "# Example of maximum-likelihood fit with iminuit version 2.x\n",
    "# pdf is a mixture of Gaussian (signal) and exponential (background),\n",
    "# truncated in [xMin,xMax].\n",
    "# G. Cowan / RHUL Physics / December 2022\n",
    "\n",
    "import numpy as np\n",
    "import scipy.stats as stats\n",
    "from scipy.stats import truncexpon\n",
    "from scipy.stats import truncnorm\n",
    "from scipy.stats import chi2\n",
    "import iminuit\n",
    "from iminuit import Minuit\n",
    "import matplotlib.pyplot as plt\n",
    "plt.rcParams[\"font.size\"] = 14\n",
    "print(f\"iminuit version: {iminuit.__version__}\")      #  should be v 2.x"
   ]
  },
  {
   "cell_type": "code",
   "execution_count": 2,
   "id": "9da621fa",
   "metadata": {},
   "outputs": [],
   "source": [
    "# Select fit type, define pdf\n",
    "fitType = 'M'        # choose least squares (LS) or multinomial ML (M)\n",
    "np.random.seed(seed=1234567)        # fix random seed\n",
    "theta = 0.2                         # fraction of signal\n",
    "mu = 10.                            # mean of Gaussian\n",
    "sigma = 2.                          # std. dev. of Gaussian\n",
    "xi = 5.                             # mean of exponential\n",
    "xMin = 0.\n",
    "xMax = 20.\n",
    "\n",
    "def f(x, par):                      # fit function\n",
    "    theta   = par[0]\n",
    "    mu      = par[1]\n",
    "    sigma   = par[2]\n",
    "    xi      = par[3]\n",
    "    fs = stats.truncnorm.pdf(x, a=(xMin-mu)/sigma, b=(xMax-mu)/sigma, loc=mu, scale=sigma)\n",
    "    fb = stats.truncexpon.pdf(x, b=(xMax-xMin)/xi, loc=xMin, scale=xi)\n",
    "    return theta*fs + (1-theta)*fb\n",
    "\n",
    "class ChiSquared:                   # function to be minimized\n",
    "\n",
    "    def __init__(self, xHist, bin_edges, fitType):\n",
    "        self.setData(xHist, bin_edges)\n",
    "        self.fitType = fitType\n",
    "        \n",
    "    def setData(self, xHist, bin_edges):\n",
    "        numVal = np.sum(xHist)\n",
    "        numBins = len(xHist)\n",
    "        binSize = bin_edges[1] - bin_edges[0]\n",
    "        self.data = xHist, bin_edges, numVal, numBins, binSize\n",
    "\n",
    "    def chi2LS(self, par):           # least squares\n",
    "        xHist, bin_edges, numVal, numBins, binSize = self.data\n",
    "        xMid = bin_edges[:numBins] + 0.5*binSize\n",
    "        binProb = f(xMid, par)*binSize\n",
    "        nu = numVal*binProb\n",
    "        sigma = np.sqrt(nu)\n",
    "        z = (xHist - nu)/sigma\n",
    "        return np.sum(z**2)\n",
    "        \n",
    "    def chi2M(self, par):            # multinomial maximum likelihood\n",
    "        xHist, bin_edges, numVal, numBins, binSize = self.data\n",
    "        xMid = bin_edges[:numBins] + 0.5*binSize\n",
    "        binProb = f(xMid, par)*binSize\n",
    "        nu = numVal*binProb\n",
    "        lnL = 0.\n",
    "        for i in range(len(xHist)):\n",
    "            if xHist[i] > 0.:\n",
    "                lnL += xHist[i]*np.log(nu[i]/xHist[i])\n",
    "        return -2.*lnL\n",
    "\n",
    "    def __call__(self, par):\n",
    "        if self.fitType == 'LS':\n",
    "            return self.chi2LS(par)\n",
    "        elif self.fitType == 'M':\n",
    "            return self.chi2M(par)\n",
    "        else:\n",
    "            print(\"fitType not defined\")\n",
    "            return -1"
   ]
  },
  {
   "cell_type": "code",
   "execution_count": 3,
   "id": "da616747",
   "metadata": {},
   "outputs": [],
   "source": [
    "# Generate data\n",
    "numVal = 200\n",
    "xData = np.empty([numVal])\n",
    "for i in range (numVal):\n",
    "    r = np.random.uniform();\n",
    "    if r < theta:\n",
    "        xData[i] = stats.truncnorm.rvs(a=(xMin-mu)/sigma, b=(xMax-mu)/sigma, loc=mu, scale=sigma)\n",
    "    else:\n",
    "        xData[i] = stats.truncexpon.rvs(b=(xMax-xMin)/xi, loc=xMin, scale=xi)\n",
    "\n",
    "# Put data values into a histogram\n",
    "numBins=40\n",
    "xHist, bin_edges = np.histogram(xData, bins=numBins, range=(xMin, xMax))\n",
    "binSize = bin_edges[1] - bin_edges[0]"
   ]
  },
  {
   "cell_type": "code",
   "execution_count": 4,
   "id": "862e05d4",
   "metadata": {},
   "outputs": [],
   "source": [
    "# Initialize Minuit and set up fit:\n",
    "parin   = np.array([theta, mu, sigma, xi])      # initial values (here = true)\n",
    "parname = ['theta', 'mu', 'sigma', 'xi']\n",
    "parname_latex = [r'$\\theta$', r'$\\mu$', r'$\\sigma$', r'$\\xi$']\n",
    "parstep = np.array([0.1, 1., 1., 1.])           # initial setp sizes\n",
    "parfix  = [False, True, True, False]            # change to fix/free param.\n",
    "parlim  = [(0.,1), (None, None), (0., None), (0., None)]\n",
    "chisq = ChiSquared(xHist, bin_edges, fitType)\n",
    "m = Minuit(chisq, parin, name=parname)\n",
    "m.errors = parstep\n",
    "m.fixed = parfix\n",
    "m.limits = parlim\n",
    "m.errordef = 1.0                      # errors from chi2 = chi2min + 1"
   ]
  },
  {
   "cell_type": "code",
   "execution_count": 5,
   "id": "7fa0f30e",
   "metadata": {},
   "outputs": [],
   "source": [
    "# do the fit, get errors, extract results\n",
    "m.migrad()                                        # minimize -logL\n",
    "parhat = m.values                                 # max-likelihood estimates\n",
    "sigma_parhat = m.errors                           # standard deviations\n",
    "cov = m.covariance                                # covariance matrix\n",
    "rho = m.covariance.correlation()                  # correlation coeffs."
   ]
  },
  {
   "cell_type": "code",
   "execution_count": 7,
   "id": "4f0ada34",
   "metadata": {},
   "outputs": [
    {
     "name": "stdout",
     "output_type": "stream",
     "text": [
      "par index, name, estimate, standard deviation:\n",
      "   0 theta       =  0.201533  +/-  0.052956\n",
      "   3 xi          =  5.148508  +/-  0.651156\n",
      "\n",
      "free par indices, covariance, correlation coeff.:\n",
      "0 0 0.002821 1.000000\n",
      "0 3 -0.018494 -0.534693\n",
      "3 0 -0.018494 -0.534693\n",
      "3 3 0.424135 1.000000\n",
      "chi2min =  35.26955011049647 ,     ndof =  37\n",
      "pval =  0.5503255503742259\n"
     ]
    }
   ],
   "source": [
    "print(r\"par index, name, estimate, standard deviation:\")\n",
    "for i in range(m.npar):\n",
    "    if not m.fixed[i]:\n",
    "        print(\"{:4d}\".format(i), \"{:<10s}\".format(m.parameters[i]), \" = \",\n",
    "         \"{:.6f}\".format(parhat[i]), \" +/- \", \"{:.6f}\".format(sigma_parhat[i]))\n",
    "         \n",
    "print()\n",
    "print(r\"free par indices, covariance, correlation coeff.:\")\n",
    "for i in range(m.npar):\n",
    "    if not m.fixed[i]:\n",
    "        for j in range(m.npar):\n",
    "            if not m.fixed[j]:\n",
    "                print(i, j, \"{:.6f}\".format(cov[i,j]), \"{:.6f}\".format(rho[i,j]))\n",
    "\n",
    "# Retrieve minimized chi-squared, etc.\n",
    "ndof = numBins - m.nfit - 1           # for fixed numVal\n",
    "chi2min = chisq(parhat)\n",
    "print (\"chi2min = \", chi2min, \",     ndof = \", ndof)\n",
    "pval = chi2.sf(chi2min, ndof)\n",
    "print (\"pval = \", pval)"
   ]
  },
  {
   "cell_type": "code",
   "execution_count": 8,
   "id": "b3e39fab",
   "metadata": {},
   "outputs": [
    {
     "data": {
      "image/png": "[encoded data removed]",
      "text/plain": [
       "<Figure size 432x288 with 1 Axes>"
      ]
     },
     "metadata": {
      "needs_background": "light"
     },
     "output_type": "display_data"
    }
   ],
   "source": [
    "# Plot fit\n",
    "fig, ax = plt.subplots(1,1)\n",
    "plt.gcf().subplots_adjust(bottom=0.15)\n",
    "plt.gcf().subplots_adjust(left=0.15)\n",
    "yMin = 0.\n",
    "yMax = np.max(xHist)*1.1\n",
    "plt.xlim(xMin, xMax)\n",
    "plt.ylim(yMin, yMax)\n",
    "plt.xticks(np.arange(xMin, xMax+1, 4.0))\n",
    "xCurve = np.linspace(xMin, xMax, 100)\n",
    "yCurve = f(xCurve, parhat)*numVal*binSize\n",
    "sig_parhat = np.copy(parhat)\n",
    "sig_parhat[0] = 1.\n",
    "bkg_parhat = np.copy(parhat)\n",
    "bkg_parhat[0] = 0.\n",
    "sigCurve = f(xCurve, sig_parhat)*numVal*binSize*parhat[0]\n",
    "bkgCurve =f(xCurve, bkg_parhat)*numVal*binSize*(1.-parhat[0])\n",
    "plt.plot(xCurve, yCurve, color='black')\n",
    "plt.plot(xCurve, sigCurve, color='red')\n",
    "plt.plot(xCurve, bkgCurve, color='dodgerblue')\n",
    "\n",
    "# Plot data histogram\n",
    "binLo, binHi = bin_edges[:-1], bin_edges[1:]\n",
    "xPlot = np.array([binLo, binHi]).T.flatten()\n",
    "yPlot = np.array([xHist, xHist]).T.flatten()\n",
    "plt.plot(xPlot, yPlot)\n",
    "plt.xlabel(r\"$x$\")\n",
    "plt.ylabel(r\"number of entries\")\n",
    "y_fitval = 0.8\n",
    "delta_y_fitval = 0.08\n",
    "if fitType == 'LS':\n",
    "    plt.figtext(0.55, y_fitval, r\"Least Squares\")\n",
    "elif fitType == 'M':\n",
    "    plt.figtext(0.55, y_fitval, r\"Maximum Likelihood\")\n",
    "for i in range(len(parin)):\n",
    "    if not parfix[i]:\n",
    "        y_fitval -= delta_y_fitval\n",
    "        plt.figtext(0.55, y_fitval, parname_latex[i] + ' = ' + f'{parhat[i]:.4f}' + r'$\\pm$' + f'{sigma_parhat[i]:.4f}')\n",
    "plt.show()\n",
    "#plt.savefig(\"histFit.pdf\", format='pdf')"
   ]
  },
  {
   "cell_type": "code",
   "execution_count": null,
   "id": "ffcbd460",
   "metadata": {},
   "outputs": [],
   "source": []
  }
 ],
 "metadata": {
  "kernelspec": {
   "display_name": "Python 3 (ipykernel)",
   "language": "python",
   "name": "python3"
  },
  "language_info": {
   "codemirror_mode": {
    "name": "ipython",
    "version": 3
   },
   "file_extension": ".py",
   "mimetype": "text/x-python",
   "name": "python",
   "nbconvert_exporter": "python",
   "pygments_lexer": "ipython3",
   "version": "3.8.6"
  }
 },
 "nbformat": 4,
 "nbformat_minor": 5
}
